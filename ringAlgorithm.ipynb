{
 "cells": [
  {
   "cell_type": "code",
   "execution_count": 9,
   "id": "4185ef24",
   "metadata": {},
   "outputs": [
    {
     "name": "stdout",
     "output_type": "stream",
     "text": [
      "No of processes 7\n",
      "Process no 6 fails\n",
      "Election Initiated by 2\n",
      "Process 2 pass Election(2) to3\n",
      "Process 3 pass Election(3) to4\n",
      "Process 4 pass Election(4) to5\n",
      "Process 5 pass Election(5) to0\n",
      "Process 0 pass Election(0) to1\n",
      "Process 5 becomes coordinator\n",
      "Process 5 pass Coordinator(5) message to process 0\n",
      "Process 0 pass Coordinator(5) message to process 1\n",
      "Process 1 pass Coordinator(5) message to process 2\n",
      "Process 2 pass Coordinator(5) message to process 3\n",
      "Process 3 pass Coordinator(5) message to process 4\n",
      "End Of Election \n"
     ]
    }
   ],
   "source": [
    "class Pro:\n",
    "\tdef __init__(self, id):\n",
    "\t\tself.id = id\n",
    "\t\tself.act = True\n",
    "\n",
    "class RING:\n",
    "\tdef __init__(self):\n",
    "\t\tself.TotalProcess = 0\n",
    "\t\tself.process = []\n",
    "\t\n",
    "\tdef initialiseRING(self):\n",
    "\t\tprint(\"No of processes 7\")\n",
    "\t\tself.TotalProcess = 7\n",
    "\t\tself.process = [Pro(i) for i in range(self.TotalProcess)]\n",
    "\t\n",
    "\tdef Election(self):\n",
    "\t\tprint(\"Process no \" + str(self.process[self.FetchMaximum()].id) + \" fails\")\n",
    "\t\tself.process[self.FetchMaximum()].act = False\n",
    "\t\tprint(\"Election Initiated by 2\")\n",
    "\t\tinitializedProcess = 2\n",
    "\n",
    "\t\told = initializedProcess\n",
    "\t\tnewer = old + 1\n",
    "\n",
    "\t\twhile (True):\n",
    "\t\t\tif (self.process[newer].act):\n",
    "\t\t\t\tprint(\"Process \" + str(self.process[old].id) + \" pass Election(\" + str(self.process[old].id) + \") to\" + str(self.process[newer].id))\n",
    "\t\t\t\told = newer\n",
    "\t\t\tnewer = (newer + 1) % self.TotalProcess\n",
    "\t\t\tif (newer == initializedProcess):\n",
    "\t\t\t\tbreak\n",
    "\n",
    "\t\tprint(\"Process \" + str(self.process[self.FetchMaximum()].id) + \" becomes coordinator\")\n",
    "\t\tcoord = self.process[self.FetchMaximum()].id\n",
    "\n",
    "\t\told = coord\n",
    "\t\tnewer = (old + 1) % self.TotalProcess\n",
    "\t\twhile (True):\n",
    "\t\t\tif (self.process[newer].act):\n",
    "\t\t\t\tprint(\"Process \" + str(self.process[old].id) + \" pass Coordinator(\" + str(coord) + \") message to process \" + str(self.process[newer].id))\n",
    "\t\t\t\told = newer\n",
    "\t\t\tnewer = (newer + 1) % self.TotalProcess\n",
    "\t\t\tif (newer == coord):\n",
    "\t\t\t\tprint(\"End Of Election \")\n",
    "\t\t\t\tbreak\n",
    "\t\n",
    "\tdef FetchMaximum(self):\n",
    "\t\tmaxId = -9999\n",
    "\t\tind = 0\n",
    "\t\tfor i in range(self.TotalProcess):\n",
    "\t\t\tif (self.process[i].act and self.process[i].id > maxId):\n",
    "\t\t\t\tmaxId = self.process[i].id\n",
    "\t\t\t\tind = i\n",
    "\t\treturn ind\n",
    "\n",
    "def main():\n",
    "\tobject = RING()\n",
    "\tobject.initialiseRING()\n",
    "\tobject.Election()\n",
    "\n",
    "if __name__ == \"__main__\":\n",
    "\tmain()"
   ]
  },
  {
   "cell_type": "code",
   "execution_count": null,
   "id": "ad794b86",
   "metadata": {},
   "outputs": [],
   "source": []
  }
 ],
 "metadata": {
  "kernelspec": {
   "display_name": "Python 3 (ipykernel)",
   "language": "python",
   "name": "python3"
  },
  "language_info": {
   "codemirror_mode": {
    "name": "ipython",
    "version": 3
   },
   "file_extension": ".py",
   "mimetype": "text/x-python",
   "name": "python",
   "nbconvert_exporter": "python",
   "pygments_lexer": "ipython3",
   "version": "3.9.13"
  }
 },
 "nbformat": 4,
 "nbformat_minor": 5
}
